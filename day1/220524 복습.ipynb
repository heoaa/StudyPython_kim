{
 "cells": [
  {
   "cell_type": "code",
   "execution_count": 2,
   "id": "90471957",
   "metadata": {},
   "outputs": [],
   "source": [
    "import numpy as np\n",
    "import numpy.random as npr"
   ]
  },
  {
   "cell_type": "code",
   "execution_count": 3,
   "id": "442d4898",
   "metadata": {},
   "outputs": [],
   "source": [
    "# 축은 [] 대괄호를 보며 구분\n",
    "# 깊이 x 행 x 열\n",
    "# 2개의 축을 가짐\n",
    "# 1번째 축(깊이)은 길이가 2, 2번째 축은 길이가 3\n",
    "a = [[ 1, 0, 0],\n",
    "     [ 0, 1, 2]]"
   ]
  },
  {
   "cell_type": "markdown",
   "id": "88d909a6",
   "metadata": {},
   "source": [
    "#### 배열 생성\n",
    "* np.ndarray : 배열 생성\n",
    "\n",
    "#### 배열 정보 확인\n",
    "* ndarray.shape : 배열의 각 축(axis)의 크기\n",
    "* ndarray.ndim : 축의 개수(Dimension)\n",
    "* ndarray.dtype : 각 요소(Element)의 타입\n",
    "* ndarray.itemsize : 각 요소(Element)의 타입의 bytes 크기\n",
    "* ndarray.size : 전체 요소(Element)의 개수"
   ]
  },
  {
   "cell_type": "code",
   "execution_count": 8,
   "id": "de18d7cd",
   "metadata": {},
   "outputs": [
    {
     "name": "stdout",
     "output_type": "stream",
     "text": [
      "shape :  (3, 5)\n",
      "ndim :  2\n",
      "dtype :  int32\n",
      "itemsize :  4\n",
      "size :  15\n",
      "type :  <class 'numpy.ndarray'>\n"
     ]
    }
   ],
   "source": [
    "a1 = np.array([[0,1,2,3,4],\n",
    "               [5,6,7,8,9],\n",
    "               [10,11,12,13,14]])\n",
    "\n",
    "print('shape : ', a1.shape)\n",
    "print('ndim : ', a1.ndim)\n",
    "print('dtype : ', a1.dtype)\n",
    "print('itemsize : ', a1.itemsize)\n",
    "print('size : ', a1.size)\n",
    "print('type : ', type(a1))"
   ]
  },
  {
   "cell_type": "code",
   "execution_count": 13,
   "id": "bb277252",
   "metadata": {},
   "outputs": [
    {
     "name": "stdout",
     "output_type": "stream",
     "text": [
      "3\n",
      "5\n"
     ]
    }
   ],
   "source": [
    "print(len(a1))\n",
    "print(len(a1[0]))"
   ]
  },
  {
   "cell_type": "markdown",
   "id": "f4bc9257",
   "metadata": {},
   "source": [
    "#### 3차원 배열"
   ]
  },
  {
   "cell_type": "code",
   "execution_count": 16,
   "id": "f3f396cd",
   "metadata": {},
   "outputs": [
    {
     "name": "stdout",
     "output_type": "stream",
     "text": [
      "2\n",
      "3\n",
      "4\n"
     ]
    }
   ],
   "source": [
    "d = np.array([[[1, 2, 3, 4],\n",
    "               [5, 6, 7, 8],\n",
    "               [9, 10, 11, 12]],\n",
    "              [[11, 12, 13, 14],\n",
    "               [15, 16, 17, 18],\n",
    "               [19, 20, 21, 22]]])   # 2 x 3 x 4 array\n",
    "\n",
    "print(len(d))        # 깊이\n",
    "print(len(d[0]))     # 행 \n",
    "print(len(d[0][0]))  # 열"
   ]
  },
  {
   "cell_type": "markdown",
   "id": "8e18c82d",
   "metadata": {},
   "source": [
    "### 연습문제1\n",
    "넘파이를 사용하여 다음과 같은 행렬을 만든다.\n",
    "\n",
    "10 20 30 40  \n",
    "50 60 70 80"
   ]
  },
  {
   "cell_type": "code",
   "execution_count": 15,
   "id": "04f371c8",
   "metadata": {
    "scrolled": true
   },
   "outputs": [
    {
     "data": {
      "text/plain": [
       "array([[10, 20, 30, 40],\n",
       "       [50, 60, 70, 80]])"
      ]
     },
     "execution_count": 15,
     "metadata": {},
     "output_type": "execute_result"
    }
   ],
   "source": [
    "q1 = np.array([[10,20,30,40], [50,60,70,80]])\n",
    "q1"
   ]
  },
  {
   "cell_type": "markdown",
   "id": "36626983",
   "metadata": {},
   "source": [
    "### 연습문제2\n",
    "1. 이 행렬에서 값 7 을 인덱싱한다.\n",
    "2. 이 행렬에서 값 14 을 인덱싱한다.\n",
    "3. 이 행렬에서 배열 [6, 7] 을 슬라이싱한다.\n",
    "4. 이 행렬에서 배열 [7, 12] 을 슬라이싱한다.\n",
    "5. 이 행렬에서 배열 [[3, 4], [8, 9]] 을 슬라이싱한다."
   ]
  },
  {
   "cell_type": "code",
   "execution_count": 38,
   "id": "4074a20e",
   "metadata": {},
   "outputs": [
    {
     "name": "stdout",
     "output_type": "stream",
     "text": [
      "1. 7\n",
      "2. 14\n",
      "3. [6 7]\n",
      "4. [ 7 12]\n",
      "5.\n"
     ]
    }
   ],
   "source": [
    "m = np.array([[0,1,2,3,4],\n",
    "              [5,6,7,8,9],\n",
    "              [10,11,12,13,14]])\n",
    "             \n",
    "print('1.', m[1,2])\n",
    "print('2.', m[2,4])\n",
    "print('3.', m[1,1:3])\n",
    "print('4.', m[1:,2])\n",
    "print('5.', )"
   ]
  },
  {
   "cell_type": "markdown",
   "id": "fb1bab6f",
   "metadata": {},
   "source": [
    "### 연습문제3\n",
    "\n",
    "1. 이 배열에서 3의 배수를 찾아라.\n",
    "2. 이 배열에서 4로 나누면 1이 남는 수를 찾아라.\n",
    "3. 이 배열에서 3으로 나누면 나누어지고 4로 나누면 1이 남는 수를 찾아라."
   ]
  },
  {
   "cell_type": "code",
   "execution_count": 44,
   "id": "8ea6d084",
   "metadata": {},
   "outputs": [
    {
     "name": "stdout",
     "output_type": "stream",
     "text": [
      "1. [ 3  6  9 12 15 18]\n",
      "2. [ 1  5  9 13 17]\n",
      "3. [9]\n"
     ]
    }
   ],
   "source": [
    "x = np.array([1, 2, 3, 4, 5, 6, 7, 8, 9, 10,\n",
    "             11, 12, 13, 14, 15, 16, 17, 18, 19, 20])\n",
    "\n",
    "print('1.', x[x % 3 == 0])\n",
    "print('2.', x[x % 4 == 1])\n",
    "print('3.', x[(x % 3 == 0) & (x % 4 == 1)])    # 수식 괄호 습관화!!"
   ]
  }
 ],
 "metadata": {
  "kernelspec": {
   "display_name": "Python 3 (ipykernel)",
   "language": "python",
   "name": "python3"
  },
  "language_info": {
   "codemirror_mode": {
    "name": "ipython",
    "version": 3
   },
   "file_extension": ".py",
   "mimetype": "text/x-python",
   "name": "python",
   "nbconvert_exporter": "python",
   "pygments_lexer": "ipython3",
   "version": "3.9.12"
  }
 },
 "nbformat": 4,
 "nbformat_minor": 5
}
