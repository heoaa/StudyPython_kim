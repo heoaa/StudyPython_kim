{
 "cells": [
  {
   "cell_type": "code",
   "execution_count": 2,
   "id": "2ea2b8e5",
   "metadata": {},
   "outputs": [],
   "source": [
    "import numpy as np"
   ]
  },
  {
   "cell_type": "markdown",
   "id": "a2ad79ae",
   "metadata": {},
   "source": [
    "### 파일 처리"
   ]
  },
  {
   "cell_type": "code",
   "execution_count": 7,
   "id": "aa4db3f2",
   "metadata": {},
   "outputs": [
    {
     "name": "stdout",
     "output_type": "stream",
     "text": [
      "[[ 1.06280276 -0.45325563 -1.75642458  0.87793083  1.27385786]\n",
      " [-1.21064817  1.98653335  0.06695576 -0.10245002 -0.59917824]\n",
      " [ 0.59926986  0.8224285  -0.72056861 -0.03360266 -0.9725805 ]]\n"
     ]
    }
   ],
   "source": [
    "# 파일 저장(tofile)\n",
    "n = np.random.randn(3,5)\n",
    "print(n)\n",
    "n.tofile('n.npy')"
   ]
  },
  {
   "cell_type": "code",
   "execution_count": 10,
   "id": "d0e22f0e",
   "metadata": {},
   "outputs": [
    {
     "name": "stdout",
     "output_type": "stream",
     "text": [
      "[ 1.06280276 -0.45325563 -1.75642458  0.87793083  1.27385786 -1.21064817\n",
      "  1.98653335  0.06695576 -0.10245002 -0.59917824  0.59926986  0.8224285\n",
      " -0.72056861 -0.03360266 -0.9725805 ]\n"
     ]
    }
   ],
   "source": [
    "# 파일 불러오기(fromfile)\n",
    "m = np.fromfile('C:\\STUDY\\StudyPython_kim\\day2/n.npy')\n",
    "print(m)"
   ]
  },
  {
   "cell_type": "code",
   "execution_count": 13,
   "id": "f25e3a2a",
   "metadata": {},
   "outputs": [
    {
     "name": "stdout",
     "output_type": "stream",
     "text": [
      "[[ 1.06280276 -0.45325563 -1.75642458  0.87793083  1.27385786]\n",
      " [-1.21064817  1.98653335  0.06695576 -0.10245002 -0.59917824]\n",
      " [ 0.59926986  0.8224285  -0.72056861 -0.03360266 -0.9725805 ]]\n"
     ]
    }
   ],
   "source": [
    "# 파일 저장, 불러오기(np.save, np.load)\n",
    "np.save('n1.npy',n)\n",
    "m1 = np.load('n1.npy')\n",
    "print(m1)"
   ]
  },
  {
   "cell_type": "code",
   "execution_count": null,
   "id": "cc3ca4fb",
   "metadata": {},
   "outputs": [],
   "source": [
    "# txt 파일 저장(np.)"
   ]
  },
  {
   "cell_type": "code",
   "execution_count": null,
   "id": "8a515d4c",
   "metadata": {},
   "outputs": [],
   "source": []
  }
 ],
 "metadata": {
  "kernelspec": {
   "display_name": "Python 3 (ipykernel)",
   "language": "python",
   "name": "python3"
  },
  "language_info": {
   "codemirror_mode": {
    "name": "ipython",
    "version": 3
   },
   "file_extension": ".py",
   "mimetype": "text/x-python",
   "name": "python",
   "nbconvert_exporter": "python",
   "pygments_lexer": "ipython3",
   "version": "3.9.12"
  }
 },
 "nbformat": 4,
 "nbformat_minor": 5
}
