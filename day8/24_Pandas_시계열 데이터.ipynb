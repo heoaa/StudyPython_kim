{
 "cells": [
  {
   "cell_type": "markdown",
   "id": "db018d4b",
   "metadata": {},
   "source": [
    "## 시계열 데이터\n",
    "* datetime 오브젝트로 현재 시각 출력"
   ]
  },
  {
   "cell_type": "code",
   "execution_count": 1,
   "id": "d28cc080",
   "metadata": {},
   "outputs": [],
   "source": [
    "# datetime 라이브러리\n",
    "from datetime import datetime"
   ]
  },
  {
   "cell_type": "code",
   "execution_count": 2,
   "id": "fae65000",
   "metadata": {},
   "outputs": [
    {
     "name": "stdout",
     "output_type": "stream",
     "text": [
      "2022-06-03 09:47:55.605986 \n",
      "\n",
      "2022-06-03 09:47:55.606640\n"
     ]
    }
   ],
   "source": [
    "# 현재 시각 출력\n",
    "now1 = datetime.now()\n",
    "now2 = datetime.today()\n",
    "print(now1, '\\n')\n",
    "print(now2)"
   ]
  },
  {
   "cell_type": "code",
   "execution_count": 3,
   "id": "2267b6b1",
   "metadata": {},
   "outputs": [
    {
     "name": "stdout",
     "output_type": "stream",
     "text": [
      "2022-06-03 09:50:48.021142\n",
      "1970-01-01 00:00:00\n",
      "1970-12-12 13:24:34\n"
     ]
    }
   ],
   "source": [
    "# 시간을 직접 입력하여 datetime 오브젝트 생성\n",
    "t1 = datetime.now()\n",
    "t2 = datetime(1970,1,1)\n",
    "t3 = datetime(1970,12,12,13,24,34)\n",
    "\n",
    "print(t1)\n",
    "print(t2)\n",
    "print(t3)"
   ]
  },
  {
   "cell_type": "code",
   "execution_count": 4,
   "id": "cfe917a4",
   "metadata": {},
   "outputs": [
    {
     "data": {
      "text/plain": [
       "datetime.timedelta(days=19146, seconds=35448, microseconds=21142)"
      ]
     },
     "execution_count": 4,
     "metadata": {},
     "output_type": "execute_result"
    }
   ],
   "source": [
    "# datetime 오브젝트 연산\n",
    "diff1 = t1 - t2\n",
    "diff1"
   ]
  },
  {
   "cell_type": "markdown",
   "id": "6a8b61c5",
   "metadata": {},
   "source": [
    "* datetime 오브젝트로 변환 : to_datetime()"
   ]
  },
  {
   "cell_type": "code",
   "execution_count": 23,
   "id": "0e8f513d",
   "metadata": {},
   "outputs": [
    {
     "name": "stdout",
     "output_type": "stream",
     "text": [
      "<class 'pandas.core.frame.DataFrame'>\n",
      "RangeIndex: 122 entries, 0 to 121\n",
      "Data columns (total 18 columns):\n",
      " #   Column               Non-Null Count  Dtype  \n",
      "---  ------               --------------  -----  \n",
      " 0   Date                 122 non-null    object \n",
      " 1   Day                  122 non-null    int64  \n",
      " 2   Cases_Guinea         93 non-null     float64\n",
      " 3   Cases_Liberia        83 non-null     float64\n",
      " 4   Cases_SierraLeone    87 non-null     float64\n",
      " 5   Cases_Nigeria        38 non-null     float64\n",
      " 6   Cases_Senegal        25 non-null     float64\n",
      " 7   Cases_UnitedStates   18 non-null     float64\n",
      " 8   Cases_Spain          16 non-null     float64\n",
      " 9   Cases_Mali           12 non-null     float64\n",
      " 10  Deaths_Guinea        92 non-null     float64\n",
      " 11  Deaths_Liberia       81 non-null     float64\n",
      " 12  Deaths_SierraLeone   87 non-null     float64\n",
      " 13  Deaths_Nigeria       38 non-null     float64\n",
      " 14  Deaths_Senegal       22 non-null     float64\n",
      " 15  Deaths_UnitedStates  18 non-null     float64\n",
      " 16  Deaths_Spain         16 non-null     float64\n",
      " 17  Deaths_Mali          12 non-null     float64\n",
      "dtypes: float64(16), int64(1), object(1)\n",
      "memory usage: 17.3+ KB\n",
      "None\n",
      "       Date  Day  Cases_Guinea  Cases_Liberia  Cases_SierraLeone  \\\n",
      "0  1/5/2015  289        2776.0            NaN            10030.0   \n",
      "1  1/4/2015  288        2775.0            NaN             9780.0   \n",
      "\n",
      "   Cases_Nigeria  Cases_Senegal  Cases_UnitedStates  Cases_Spain  Cases_Mali  \\\n",
      "0            NaN            NaN                 NaN          NaN         NaN   \n",
      "1            NaN            NaN                 NaN          NaN         NaN   \n",
      "\n",
      "   Deaths_Guinea  Deaths_Liberia  Deaths_SierraLeone  Deaths_Nigeria  \\\n",
      "0         1786.0             NaN              2977.0             NaN   \n",
      "1         1781.0             NaN              2943.0             NaN   \n",
      "\n",
      "   Deaths_Senegal  Deaths_UnitedStates  Deaths_Spain  Deaths_Mali  \n",
      "0             NaN                  NaN           NaN          NaN  \n",
      "1             NaN                  NaN           NaN          NaN  \n"
     ]
    }
   ],
   "source": [
    "# ebola 데이터 집합 가져오기\n",
    "import pandas as pd\n",
    "ebola = pd.read_csv('C:\\STUDY\\StudyPython_kim\\day6/country_timeseries.csv')\n",
    "print(ebola.info())\n",
    "print(ebola.head(2))"
   ]
  },
  {
   "cell_type": "code",
   "execution_count": 24,
   "id": "e458e46b",
   "metadata": {},
   "outputs": [
    {
     "name": "stdout",
     "output_type": "stream",
     "text": [
      "<class 'pandas.core.frame.DataFrame'>\n",
      "RangeIndex: 122 entries, 0 to 121\n",
      "Data columns (total 19 columns):\n",
      " #   Column               Non-Null Count  Dtype         \n",
      "---  ------               --------------  -----         \n",
      " 0   Date                 122 non-null    object        \n",
      " 1   Day                  122 non-null    int64         \n",
      " 2   Cases_Guinea         93 non-null     float64       \n",
      " 3   Cases_Liberia        83 non-null     float64       \n",
      " 4   Cases_SierraLeone    87 non-null     float64       \n",
      " 5   Cases_Nigeria        38 non-null     float64       \n",
      " 6   Cases_Senegal        25 non-null     float64       \n",
      " 7   Cases_UnitedStates   18 non-null     float64       \n",
      " 8   Cases_Spain          16 non-null     float64       \n",
      " 9   Cases_Mali           12 non-null     float64       \n",
      " 10  Deaths_Guinea        92 non-null     float64       \n",
      " 11  Deaths_Liberia       81 non-null     float64       \n",
      " 12  Deaths_SierraLeone   87 non-null     float64       \n",
      " 13  Deaths_Nigeria       38 non-null     float64       \n",
      " 14  Deaths_Senegal       22 non-null     float64       \n",
      " 15  Deaths_UnitedStates  18 non-null     float64       \n",
      " 16  Deaths_Spain         16 non-null     float64       \n",
      " 17  Deaths_Mali          12 non-null     float64       \n",
      " 18  date_dt              122 non-null    datetime64[ns]\n",
      "dtypes: datetime64[ns](1), float64(16), int64(1), object(1)\n",
      "memory usage: 18.2+ KB\n",
      "None\n",
      "       Date  Day  Cases_Guinea  Cases_Liberia  Cases_SierraLeone  \\\n",
      "0  1/5/2015  289        2776.0            NaN            10030.0   \n",
      "1  1/4/2015  288        2775.0            NaN             9780.0   \n",
      "\n",
      "   Cases_Nigeria  Cases_Senegal  Cases_UnitedStates  Cases_Spain  Cases_Mali  \\\n",
      "0            NaN            NaN                 NaN          NaN         NaN   \n",
      "1            NaN            NaN                 NaN          NaN         NaN   \n",
      "\n",
      "   Deaths_Guinea  Deaths_Liberia  Deaths_SierraLeone  Deaths_Nigeria  \\\n",
      "0         1786.0             NaN              2977.0             NaN   \n",
      "1         1781.0             NaN              2943.0             NaN   \n",
      "\n",
      "   Deaths_Senegal  Deaths_UnitedStates  Deaths_Spain  Deaths_Mali    date_dt  \n",
      "0             NaN                  NaN           NaN          NaN 2015-01-05  \n",
      "1             NaN                  NaN           NaN          NaN 2015-01-04  \n"
     ]
    }
   ],
   "source": [
    "# Date열 자료형을 datetime 오브젝트로 변환\n",
    "ebola['date_dt'] = pd.to_datetime(ebola['Date'])\n",
    "print(ebola.info())\n",
    "print(ebola.head(2))"
   ]
  },
  {
   "cell_type": "code",
   "execution_count": 25,
   "id": "5e494638",
   "metadata": {},
   "outputs": [
    {
     "data": {
      "text/html": [
       "<div>\n",
       "<style scoped>\n",
       "    .dataframe tbody tr th:only-of-type {\n",
       "        vertical-align: middle;\n",
       "    }\n",
       "\n",
       "    .dataframe tbody tr th {\n",
       "        vertical-align: top;\n",
       "    }\n",
       "\n",
       "    .dataframe thead th {\n",
       "        text-align: right;\n",
       "    }\n",
       "</style>\n",
       "<table border=\"1\" class=\"dataframe\">\n",
       "  <thead>\n",
       "    <tr style=\"text-align: right;\">\n",
       "      <th></th>\n",
       "      <th>order_day</th>\n",
       "      <th>date_dt1</th>\n",
       "      <th>date_dt2</th>\n",
       "      <th>date_dt3</th>\n",
       "      <th>date_dt4</th>\n",
       "    </tr>\n",
       "  </thead>\n",
       "  <tbody>\n",
       "    <tr>\n",
       "      <th>0</th>\n",
       "      <td>01/01/15</td>\n",
       "      <td>2015-01-01</td>\n",
       "      <td>2015-01-01</td>\n",
       "      <td>2001-01-15</td>\n",
       "      <td>2015-01-01</td>\n",
       "    </tr>\n",
       "    <tr>\n",
       "      <th>1</th>\n",
       "      <td>02/01/15</td>\n",
       "      <td>2015-01-02</td>\n",
       "      <td>2015-02-01</td>\n",
       "      <td>2002-01-15</td>\n",
       "      <td>2015-02-01</td>\n",
       "    </tr>\n",
       "    <tr>\n",
       "      <th>2</th>\n",
       "      <td>03/01/15</td>\n",
       "      <td>2015-01-03</td>\n",
       "      <td>2015-03-01</td>\n",
       "      <td>2003-01-15</td>\n",
       "      <td>2015-03-01</td>\n",
       "    </tr>\n",
       "  </tbody>\n",
       "</table>\n",
       "</div>"
      ],
      "text/plain": [
       "  order_day   date_dt1   date_dt2   date_dt3   date_dt4\n",
       "0  01/01/15 2015-01-01 2015-01-01 2001-01-15 2015-01-01\n",
       "1  02/01/15 2015-01-02 2015-02-01 2002-01-15 2015-02-01\n",
       "2  03/01/15 2015-01-03 2015-03-01 2003-01-15 2015-03-01"
      ]
     },
     "execution_count": 25,
     "metadata": {},
     "output_type": "execute_result"
    }
   ],
   "source": [
    "# 시간 형식을 지정하여 datetime 오브젝트 생성\n",
    "test_df1 = pd.DataFrame({'order_day':['01/01/15','02/01/15','03/01/15']})\n",
    "\n",
    "test_df1['date_dt1'] = pd.to_datetime(test_df1['order_day'], format='%d/%m/%y')\n",
    "test_df1['date_dt2'] = pd.to_datetime(test_df1['order_day'], format='%m/%d/%y')\n",
    "test_df1['date_dt3'] = pd.to_datetime(test_df1['order_day'], format='%y/%m/%d')\n",
    "test_df1['date_dt4'] = pd.to_datetime(test_df1['order_day'])\n",
    "\n",
    "test_df1"
   ]
  },
  {
   "cell_type": "code",
   "execution_count": 26,
   "id": "ededdaa8",
   "metadata": {},
   "outputs": [
    {
     "name": "stdout",
     "output_type": "stream",
     "text": [
      "2022-06-03 10:35:57.414756 \n",
      "\n",
      "2022-06-03 \n",
      "\n",
      "10:35:57 \n",
      "\n",
      "5요일\n"
     ]
    }
   ],
   "source": [
    "# 시계열 데이터 분리 : strftime()\n",
    "now = datetime.now()\n",
    "nowDate = now.strftime('%Y-%m-%d')\n",
    "nowTime = now.strftime('%H:%M:%S')\n",
    "nowWeek = now.strftime('%w요일')\n",
    "\n",
    "print(now, '\\n')\n",
    "print(nowDate, '\\n')\n",
    "print(nowTime, '\\n')\n",
    "print(nowWeek)    # 0~6 : 일~금, 토"
   ]
  },
  {
   "cell_type": "markdown",
   "id": "d29073ac",
   "metadata": {},
   "source": [
    "* datetime 오브젝트로 변환 : read_csv(parse_dates = ['열이름'])"
   ]
  },
  {
   "cell_type": "code",
   "execution_count": 27,
   "id": "eb126da7",
   "metadata": {
    "scrolled": false
   },
   "outputs": [
    {
     "name": "stdout",
     "output_type": "stream",
     "text": [
      "<class 'pandas.core.frame.DataFrame'>\n",
      "RangeIndex: 122 entries, 0 to 121\n",
      "Data columns (total 18 columns):\n",
      " #   Column               Non-Null Count  Dtype         \n",
      "---  ------               --------------  -----         \n",
      " 0   Date                 122 non-null    datetime64[ns]\n",
      " 1   Day                  122 non-null    int64         \n",
      " 2   Cases_Guinea         93 non-null     float64       \n",
      " 3   Cases_Liberia        83 non-null     float64       \n",
      " 4   Cases_SierraLeone    87 non-null     float64       \n",
      " 5   Cases_Nigeria        38 non-null     float64       \n",
      " 6   Cases_Senegal        25 non-null     float64       \n",
      " 7   Cases_UnitedStates   18 non-null     float64       \n",
      " 8   Cases_Spain          16 non-null     float64       \n",
      " 9   Cases_Mali           12 non-null     float64       \n",
      " 10  Deaths_Guinea        92 non-null     float64       \n",
      " 11  Deaths_Liberia       81 non-null     float64       \n",
      " 12  Deaths_SierraLeone   87 non-null     float64       \n",
      " 13  Deaths_Nigeria       38 non-null     float64       \n",
      " 14  Deaths_Senegal       22 non-null     float64       \n",
      " 15  Deaths_UnitedStates  18 non-null     float64       \n",
      " 16  Deaths_Spain         16 non-null     float64       \n",
      " 17  Deaths_Mali          12 non-null     float64       \n",
      "dtypes: datetime64[ns](1), float64(16), int64(1)\n",
      "memory usage: 17.3 KB\n"
     ]
    }
   ],
   "source": [
    "# 데이터 집합 가져오기\n",
    "ebola1 = pd.read_csv('C:\\STUDY\\StudyPython_kim\\day6/country_timeseries.csv', parse_dates=['Date'])\n",
    "ebola1.info()"
   ]
  },
  {
   "cell_type": "code",
   "execution_count": 28,
   "id": "32713a40",
   "metadata": {
    "scrolled": true
   },
   "outputs": [
    {
     "name": "stdout",
     "output_type": "stream",
     "text": [
      "2015\n",
      "1\n",
      "5\n"
     ]
    }
   ],
   "source": [
    "print(ebola1['Date'][0].year)\n",
    "print(ebola1['Date'][0].month)\n",
    "print(ebola1['Date'][0].day)"
   ]
  },
  {
   "cell_type": "markdown",
   "id": "8a57f787",
   "metadata": {},
   "source": [
    "* df 접근자 사용"
   ]
  },
  {
   "cell_type": "code",
   "execution_count": 31,
   "id": "4b645cac",
   "metadata": {},
   "outputs": [
    {
     "data": {
      "text/html": [
       "<div>\n",
       "<style scoped>\n",
       "    .dataframe tbody tr th:only-of-type {\n",
       "        vertical-align: middle;\n",
       "    }\n",
       "\n",
       "    .dataframe tbody tr th {\n",
       "        vertical-align: top;\n",
       "    }\n",
       "\n",
       "    .dataframe thead th {\n",
       "        text-align: right;\n",
       "    }\n",
       "</style>\n",
       "<table border=\"1\" class=\"dataframe\">\n",
       "  <thead>\n",
       "    <tr style=\"text-align: right;\">\n",
       "      <th></th>\n",
       "      <th>Date</th>\n",
       "      <th>date_dt</th>\n",
       "      <th>year</th>\n",
       "      <th>month</th>\n",
       "      <th>day</th>\n",
       "    </tr>\n",
       "  </thead>\n",
       "  <tbody>\n",
       "    <tr>\n",
       "      <th>0</th>\n",
       "      <td>1/5/2015</td>\n",
       "      <td>2015-01-05</td>\n",
       "      <td>2015</td>\n",
       "      <td>1</td>\n",
       "      <td>5</td>\n",
       "    </tr>\n",
       "    <tr>\n",
       "      <th>1</th>\n",
       "      <td>1/4/2015</td>\n",
       "      <td>2015-01-04</td>\n",
       "      <td>2015</td>\n",
       "      <td>1</td>\n",
       "      <td>4</td>\n",
       "    </tr>\n",
       "    <tr>\n",
       "      <th>2</th>\n",
       "      <td>1/3/2015</td>\n",
       "      <td>2015-01-03</td>\n",
       "      <td>2015</td>\n",
       "      <td>1</td>\n",
       "      <td>3</td>\n",
       "    </tr>\n",
       "    <tr>\n",
       "      <th>3</th>\n",
       "      <td>1/2/2015</td>\n",
       "      <td>2015-01-02</td>\n",
       "      <td>2015</td>\n",
       "      <td>1</td>\n",
       "      <td>2</td>\n",
       "    </tr>\n",
       "    <tr>\n",
       "      <th>4</th>\n",
       "      <td>12/31/2014</td>\n",
       "      <td>2014-12-31</td>\n",
       "      <td>2014</td>\n",
       "      <td>12</td>\n",
       "      <td>31</td>\n",
       "    </tr>\n",
       "  </tbody>\n",
       "</table>\n",
       "</div>"
      ],
      "text/plain": [
       "         Date    date_dt  year  month  day\n",
       "0    1/5/2015 2015-01-05  2015      1    5\n",
       "1    1/4/2015 2015-01-04  2015      1    4\n",
       "2    1/3/2015 2015-01-03  2015      1    3\n",
       "3    1/2/2015 2015-01-02  2015      1    2\n",
       "4  12/31/2014 2014-12-31  2014     12   31"
      ]
     },
     "execution_count": 31,
     "metadata": {},
     "output_type": "execute_result"
    }
   ],
   "source": [
    "# 인덱스를 사용하지 않고 df 접근자로 년/월/일 추출하여 저장\n",
    "ebola['date_df'] = pd.to_datetime(ebola['Date'])\n",
    "\n",
    "ebola['year'] = ebola['date_dt'].dt.year\n",
    "ebola['month'] = ebola['date_dt'].dt.month\n",
    "ebola['day'] = ebola['date_dt'].dt.day\n",
    "\n",
    "ebola[['Date','date_dt','year','month','day']].head()"
   ]
  },
  {
   "cell_type": "markdown",
   "id": "494f92db",
   "metadata": {},
   "source": [
    "* 에볼라 최초 발병일 계산하기"
   ]
  },
  {
   "cell_type": "code",
   "execution_count": 33,
   "id": "91fa26c2",
   "metadata": {},
   "outputs": [
    {
     "name": "stdout",
     "output_type": "stream",
     "text": [
      "2014-03-22 00:00:00\n",
      "          Date  Day  Cases_Guinea  Cases_Liberia  Cases_SierraLeone  \\\n",
      "121  3/22/2014    0          49.0            NaN                NaN   \n",
      "\n",
      "     Cases_Nigeria  Cases_Senegal  Cases_UnitedStates  Cases_Spain  \\\n",
      "121            NaN            NaN                 NaN          NaN   \n",
      "\n",
      "     Cases_Mali  ...  Deaths_Nigeria  Deaths_Senegal  Deaths_UnitedStates  \\\n",
      "121         NaN  ...             NaN             NaN                  NaN   \n",
      "\n",
      "     Deaths_Spain  Deaths_Mali    date_dt    date_df  year month day  \n",
      "121           NaN          NaN 2014-03-22 2014-03-22  2014     3  22  \n",
      "\n",
      "[1 rows x 23 columns]\n"
     ]
    }
   ],
   "source": [
    "# 최초 발병일\n",
    "print(ebola['date_dt'].min())\n",
    "print(ebola.loc[ebola['date_dt'] == ebola['date_dt'].min()])"
   ]
  },
  {
   "cell_type": "code",
   "execution_count": 38,
   "id": "76f206f1",
   "metadata": {},
   "outputs": [
    {
     "name": "stdout",
     "output_type": "stream",
     "text": [
      "0     289 days\n",
      "1     288 days\n",
      "2     287 days\n",
      "3     286 days\n",
      "4     284 days\n",
      "        ...   \n",
      "117     5 days\n",
      "118     4 days\n",
      "119     3 days\n",
      "120     2 days\n",
      "121     0 days\n",
      "Name: outbreak_d, Length: 122, dtype: timedelta64[ns]\n"
     ]
    }
   ],
   "source": [
    "# 에볼라 진행 정도 확인\n",
    "ebola['outbreak_d'] = ebola['date_dt'] - ebola['date_dt'].min()\n",
    "print(ebola['outbreak_d'])"
   ]
  }
 ],
 "metadata": {
  "kernelspec": {
   "display_name": "Python 3 (ipykernel)",
   "language": "python",
   "name": "python3"
  },
  "language_info": {
   "codemirror_mode": {
    "name": "ipython",
    "version": 3
   },
   "file_extension": ".py",
   "mimetype": "text/x-python",
   "name": "python",
   "nbconvert_exporter": "python",
   "pygments_lexer": "ipython3",
   "version": "3.9.12"
  }
 },
 "nbformat": 4,
 "nbformat_minor": 5
}
