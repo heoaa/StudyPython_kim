{
 "cells": [
  {
   "cell_type": "markdown",
   "id": "59d276bc",
   "metadata": {},
   "source": [
    "기상자료개방포털 : https://data.kma.go.kr"
   ]
  },
  {
   "cell_type": "code",
   "execution_count": 1,
   "id": "173dd5cf",
   "metadata": {},
   "outputs": [],
   "source": [
    "import pandas as pd"
   ]
  },
  {
   "cell_type": "markdown",
   "id": "99361aa1",
   "metadata": {},
   "source": [
    "#### 데이터 로드"
   ]
  },
  {
   "cell_type": "code",
   "execution_count": 5,
   "id": "13d93efb",
   "metadata": {},
   "outputs": [
    {
     "data": {
      "text/html": [
       "<div>\n",
       "<style scoped>\n",
       "    .dataframe tbody tr th:only-of-type {\n",
       "        vertical-align: middle;\n",
       "    }\n",
       "\n",
       "    .dataframe tbody tr th {\n",
       "        vertical-align: top;\n",
       "    }\n",
       "\n",
       "    .dataframe thead th {\n",
       "        text-align: right;\n",
       "    }\n",
       "</style>\n",
       "<table border=\"1\" class=\"dataframe\">\n",
       "  <thead>\n",
       "    <tr style=\"text-align: right;\">\n",
       "      <th></th>\n",
       "      <th>날짜</th>\n",
       "      <th>지점</th>\n",
       "      <th>평균기온(℃)</th>\n",
       "      <th>최저기온(℃)</th>\n",
       "      <th>최고기온(℃)</th>\n",
       "    </tr>\n",
       "  </thead>\n",
       "  <tbody>\n",
       "    <tr>\n",
       "      <th>0</th>\n",
       "      <td>1904-04-09</td>\n",
       "      <td>159</td>\n",
       "      <td>11.3</td>\n",
       "      <td>7.8</td>\n",
       "      <td>16.1</td>\n",
       "    </tr>\n",
       "    <tr>\n",
       "      <th>1</th>\n",
       "      <td>1904-04-10</td>\n",
       "      <td>159</td>\n",
       "      <td>9.3</td>\n",
       "      <td>4.7</td>\n",
       "      <td>15.2</td>\n",
       "    </tr>\n",
       "    <tr>\n",
       "      <th>2</th>\n",
       "      <td>1904-04-11</td>\n",
       "      <td>159</td>\n",
       "      <td>10.6</td>\n",
       "      <td>NaN</td>\n",
       "      <td>14.9</td>\n",
       "    </tr>\n",
       "    <tr>\n",
       "      <th>3</th>\n",
       "      <td>1904-04-12</td>\n",
       "      <td>159</td>\n",
       "      <td>11.3</td>\n",
       "      <td>8.8</td>\n",
       "      <td>13.4</td>\n",
       "    </tr>\n",
       "    <tr>\n",
       "      <th>4</th>\n",
       "      <td>1904-04-13</td>\n",
       "      <td>159</td>\n",
       "      <td>14.5</td>\n",
       "      <td>11.1</td>\n",
       "      <td>16.9</td>\n",
       "    </tr>\n",
       "    <tr>\n",
       "      <th>...</th>\n",
       "      <td>...</td>\n",
       "      <td>...</td>\n",
       "      <td>...</td>\n",
       "      <td>...</td>\n",
       "      <td>...</td>\n",
       "    </tr>\n",
       "    <tr>\n",
       "      <th>43149</th>\n",
       "      <td>2022-05-29</td>\n",
       "      <td>159</td>\n",
       "      <td>22.6</td>\n",
       "      <td>19.2</td>\n",
       "      <td>26.6</td>\n",
       "    </tr>\n",
       "    <tr>\n",
       "      <th>43150</th>\n",
       "      <td>2022-05-30</td>\n",
       "      <td>159</td>\n",
       "      <td>20.7</td>\n",
       "      <td>17.2</td>\n",
       "      <td>23.9</td>\n",
       "    </tr>\n",
       "    <tr>\n",
       "      <th>43151</th>\n",
       "      <td>2022-05-31</td>\n",
       "      <td>159</td>\n",
       "      <td>21.6</td>\n",
       "      <td>18.4</td>\n",
       "      <td>27.4</td>\n",
       "    </tr>\n",
       "    <tr>\n",
       "      <th>43152</th>\n",
       "      <td>2022-06-01</td>\n",
       "      <td>159</td>\n",
       "      <td>22.2</td>\n",
       "      <td>18.5</td>\n",
       "      <td>27.5</td>\n",
       "    </tr>\n",
       "    <tr>\n",
       "      <th>43153</th>\n",
       "      <td>2022-06-02</td>\n",
       "      <td>159</td>\n",
       "      <td>20.7</td>\n",
       "      <td>18.0</td>\n",
       "      <td>24.5</td>\n",
       "    </tr>\n",
       "  </tbody>\n",
       "</table>\n",
       "<p>43154 rows × 5 columns</p>\n",
       "</div>"
      ],
      "text/plain": [
       "               날짜   지점  평균기온(℃)  최저기온(℃)  최고기온(℃)\n",
       "0      1904-04-09  159     11.3      7.8     16.1\n",
       "1      1904-04-10  159      9.3      4.7     15.2\n",
       "2      1904-04-11  159     10.6      NaN     14.9\n",
       "3      1904-04-12  159     11.3      8.8     13.4\n",
       "4      1904-04-13  159     14.5     11.1     16.9\n",
       "...           ...  ...      ...      ...      ...\n",
       "43149  2022-05-29  159     22.6     19.2     26.6\n",
       "43150  2022-05-30  159     20.7     17.2     23.9\n",
       "43151  2022-05-31  159     21.6     18.4     27.4\n",
       "43152  2022-06-01  159     22.2     18.5     27.5\n",
       "43153  2022-06-02  159     20.7     18.0     24.5\n",
       "\n",
       "[43154 rows x 5 columns]"
      ]
     },
     "execution_count": 5,
     "metadata": {},
     "output_type": "execute_result"
    }
   ],
   "source": [
    "# 7행까지의 데이터 설명 스킵하고 불러오기\n",
    "df = pd.read_csv('busan_기온.csv', encoding = 'cp949', skiprows = 7)\n",
    "df"
   ]
  },
  {
   "cell_type": "markdown",
   "id": "3d97bcd8",
   "metadata": {},
   "source": [
    "#### 누락값 확인"
   ]
  },
  {
   "cell_type": "code",
   "execution_count": 8,
   "id": "d20da97e",
   "metadata": {},
   "outputs": [
    {
     "data": {
      "text/plain": [
       "날짜         43154\n",
       "지점         43154\n",
       "평균기온(℃)    43154\n",
       "최저기온(℃)    43144\n",
       "최고기온(℃)    43150\n",
       "일교차        43143\n",
       "dtype: int64"
      ]
     },
     "execution_count": 8,
     "metadata": {},
     "output_type": "execute_result"
    }
   ],
   "source": [
    "df.count()"
   ]
  },
  {
   "cell_type": "code",
   "execution_count": 13,
   "id": "297d4baf",
   "metadata": {
    "scrolled": true
   },
   "outputs": [
    {
     "data": {
      "text/html": [
       "<div>\n",
       "<style scoped>\n",
       "    .dataframe tbody tr th:only-of-type {\n",
       "        vertical-align: middle;\n",
       "    }\n",
       "\n",
       "    .dataframe tbody tr th {\n",
       "        vertical-align: top;\n",
       "    }\n",
       "\n",
       "    .dataframe thead th {\n",
       "        text-align: right;\n",
       "    }\n",
       "</style>\n",
       "<table border=\"1\" class=\"dataframe\">\n",
       "  <thead>\n",
       "    <tr style=\"text-align: right;\">\n",
       "      <th></th>\n",
       "      <th>날짜</th>\n",
       "      <th>지점</th>\n",
       "      <th>평균기온(℃)</th>\n",
       "      <th>최저기온(℃)</th>\n",
       "      <th>최고기온(℃)</th>\n",
       "      <th>일교차</th>\n",
       "    </tr>\n",
       "  </thead>\n",
       "  <tbody>\n",
       "    <tr>\n",
       "      <th>2</th>\n",
       "      <td>1904-04-11</td>\n",
       "      <td>159</td>\n",
       "      <td>10.6</td>\n",
       "      <td>NaN</td>\n",
       "      <td>14.9</td>\n",
       "      <td>NaN</td>\n",
       "    </tr>\n",
       "    <tr>\n",
       "      <th>8</th>\n",
       "      <td>1904-04-17</td>\n",
       "      <td>159</td>\n",
       "      <td>10.3</td>\n",
       "      <td>NaN</td>\n",
       "      <td>12.6</td>\n",
       "      <td>NaN</td>\n",
       "    </tr>\n",
       "    <tr>\n",
       "      <th>11</th>\n",
       "      <td>1904-04-20</td>\n",
       "      <td>159</td>\n",
       "      <td>11.9</td>\n",
       "      <td>NaN</td>\n",
       "      <td>NaN</td>\n",
       "      <td>NaN</td>\n",
       "    </tr>\n",
       "    <tr>\n",
       "      <th>12</th>\n",
       "      <td>1904-04-21</td>\n",
       "      <td>159</td>\n",
       "      <td>12.1</td>\n",
       "      <td>NaN</td>\n",
       "      <td>18.3</td>\n",
       "      <td>NaN</td>\n",
       "    </tr>\n",
       "    <tr>\n",
       "      <th>17</th>\n",
       "      <td>1904-04-26</td>\n",
       "      <td>159</td>\n",
       "      <td>14.5</td>\n",
       "      <td>NaN</td>\n",
       "      <td>17.6</td>\n",
       "      <td>NaN</td>\n",
       "    </tr>\n",
       "    <tr>\n",
       "      <th>28</th>\n",
       "      <td>1904-05-07</td>\n",
       "      <td>159</td>\n",
       "      <td>16.1</td>\n",
       "      <td>NaN</td>\n",
       "      <td>21.9</td>\n",
       "      <td>NaN</td>\n",
       "    </tr>\n",
       "    <tr>\n",
       "      <th>37</th>\n",
       "      <td>1904-05-16</td>\n",
       "      <td>159</td>\n",
       "      <td>16.3</td>\n",
       "      <td>NaN</td>\n",
       "      <td>21.1</td>\n",
       "      <td>NaN</td>\n",
       "    </tr>\n",
       "    <tr>\n",
       "      <th>40</th>\n",
       "      <td>1904-05-19</td>\n",
       "      <td>159</td>\n",
       "      <td>16.3</td>\n",
       "      <td>NaN</td>\n",
       "      <td>22.8</td>\n",
       "      <td>NaN</td>\n",
       "    </tr>\n",
       "    <tr>\n",
       "      <th>22961</th>\n",
       "      <td>1967-02-19</td>\n",
       "      <td>159</td>\n",
       "      <td>2.7</td>\n",
       "      <td>NaN</td>\n",
       "      <td>NaN</td>\n",
       "      <td>NaN</td>\n",
       "    </tr>\n",
       "    <tr>\n",
       "      <th>25392</th>\n",
       "      <td>1973-10-16</td>\n",
       "      <td>159</td>\n",
       "      <td>15.9</td>\n",
       "      <td>NaN</td>\n",
       "      <td>NaN</td>\n",
       "      <td>NaN</td>\n",
       "    </tr>\n",
       "  </tbody>\n",
       "</table>\n",
       "</div>"
      ],
      "text/plain": [
       "               날짜   지점  평균기온(℃)  최저기온(℃)  최고기온(℃)  일교차\n",
       "2      1904-04-11  159     10.6      NaN     14.9  NaN\n",
       "8      1904-04-17  159     10.3      NaN     12.6  NaN\n",
       "11     1904-04-20  159     11.9      NaN      NaN  NaN\n",
       "12     1904-04-21  159     12.1      NaN     18.3  NaN\n",
       "17     1904-04-26  159     14.5      NaN     17.6  NaN\n",
       "28     1904-05-07  159     16.1      NaN     21.9  NaN\n",
       "37     1904-05-16  159     16.3      NaN     21.1  NaN\n",
       "40     1904-05-19  159     16.3      NaN     22.8  NaN\n",
       "22961  1967-02-19  159      2.7      NaN      NaN  NaN\n",
       "25392  1973-10-16  159     15.9      NaN      NaN  NaN"
      ]
     },
     "execution_count": 13,
     "metadata": {},
     "output_type": "execute_result"
    }
   ],
   "source": [
    "df[pd.isnull(df['최저기온(℃)'])]"
   ]
  },
  {
   "cell_type": "markdown",
   "id": "8426a000",
   "metadata": {},
   "source": [
    "#### 가장 더웠던 날, 일교차가 가장 큰 날"
   ]
  },
  {
   "cell_type": "code",
   "execution_count": 6,
   "id": "708ae97a",
   "metadata": {
    "scrolled": true
   },
   "outputs": [
    {
     "data": {
      "text/html": [
       "<div>\n",
       "<style scoped>\n",
       "    .dataframe tbody tr th:only-of-type {\n",
       "        vertical-align: middle;\n",
       "    }\n",
       "\n",
       "    .dataframe tbody tr th {\n",
       "        vertical-align: top;\n",
       "    }\n",
       "\n",
       "    .dataframe thead th {\n",
       "        text-align: right;\n",
       "    }\n",
       "</style>\n",
       "<table border=\"1\" class=\"dataframe\">\n",
       "  <thead>\n",
       "    <tr style=\"text-align: right;\">\n",
       "      <th></th>\n",
       "      <th>날짜</th>\n",
       "      <th>지점</th>\n",
       "      <th>평균기온(℃)</th>\n",
       "      <th>최저기온(℃)</th>\n",
       "      <th>최고기온(℃)</th>\n",
       "    </tr>\n",
       "  </thead>\n",
       "  <tbody>\n",
       "    <tr>\n",
       "      <th>41035</th>\n",
       "      <td>2016-08-14</td>\n",
       "      <td>159</td>\n",
       "      <td>31.7</td>\n",
       "      <td>28.3</td>\n",
       "      <td>37.3</td>\n",
       "    </tr>\n",
       "  </tbody>\n",
       "</table>\n",
       "</div>"
      ],
      "text/plain": [
       "               날짜   지점  평균기온(℃)  최저기온(℃)  최고기온(℃)\n",
       "41035  2016-08-14  159     31.7     28.3     37.3"
      ]
     },
     "execution_count": 6,
     "metadata": {},
     "output_type": "execute_result"
    }
   ],
   "source": [
    "# 가장 더웠던 날\n",
    "df[df['최고기온(℃)'] == df['최고기온(℃)'].max()]"
   ]
  },
  {
   "cell_type": "code",
   "execution_count": 7,
   "id": "2339590d",
   "metadata": {},
   "outputs": [
    {
     "data": {
      "text/html": [
       "<div>\n",
       "<style scoped>\n",
       "    .dataframe tbody tr th:only-of-type {\n",
       "        vertical-align: middle;\n",
       "    }\n",
       "\n",
       "    .dataframe tbody tr th {\n",
       "        vertical-align: top;\n",
       "    }\n",
       "\n",
       "    .dataframe thead th {\n",
       "        text-align: right;\n",
       "    }\n",
       "</style>\n",
       "<table border=\"1\" class=\"dataframe\">\n",
       "  <thead>\n",
       "    <tr style=\"text-align: right;\">\n",
       "      <th></th>\n",
       "      <th>날짜</th>\n",
       "      <th>지점</th>\n",
       "      <th>평균기온(℃)</th>\n",
       "      <th>최저기온(℃)</th>\n",
       "      <th>최고기온(℃)</th>\n",
       "      <th>일교차</th>\n",
       "    </tr>\n",
       "  </thead>\n",
       "  <tbody>\n",
       "    <tr>\n",
       "      <th>28729</th>\n",
       "      <td>1982-12-05</td>\n",
       "      <td>159</td>\n",
       "      <td>3.9</td>\n",
       "      <td>-3.3</td>\n",
       "      <td>15.2</td>\n",
       "      <td>18.5</td>\n",
       "    </tr>\n",
       "  </tbody>\n",
       "</table>\n",
       "</div>"
      ],
      "text/plain": [
       "               날짜   지점  평균기온(℃)  최저기온(℃)  최고기온(℃)   일교차\n",
       "28729  1982-12-05  159      3.9     -3.3     15.2  18.5"
      ]
     },
     "execution_count": 7,
     "metadata": {},
     "output_type": "execute_result"
    }
   ],
   "source": [
    "# 일교차가 가장 큰 날\n",
    "df['일교차'] = df['최고기온(℃)'] - df['최저기온(℃)']\n",
    "df[df['일교차'] == df['일교차'].max()]"
   ]
  },
  {
   "cell_type": "markdown",
   "id": "1019344f",
   "metadata": {},
   "source": [
    "#### 그래프"
   ]
  },
  {
   "cell_type": "code",
   "execution_count": 31,
   "id": "fa7d15c0",
   "metadata": {},
   "outputs": [
    {
     "data": {
      "image/png": "[encoded data removed]",
      "text/plain": [
       "<Figure size 432x288 with 1 Axes>"
      ]
     },
     "metadata": {
      "needs_background": "light"
     },
     "output_type": "display_data"
    }
   ],
   "source": [
    "# 그래프 표현\n",
    "%matplotlib inline\n",
    "import matplotlib.pyplot as plt\n",
    "\n",
    "plt.plot(df['날짜'][40000:40050], df['평균기온(℃)'][40000:40050])\n",
    "plt.xticks(df['날짜'][40000:40050], rotation = 90)                  # rotation : x축 레이블 각도\n",
    "plt.show()"
   ]
  },
  {
   "cell_type": "markdown",
   "id": "9586d291",
   "metadata": {},
   "source": [
    "#### 2000년 이후 3월 1일 이후 최고(최저) 기온 확인"
   ]
  },
  {
   "cell_type": "code",
   "execution_count": 22,
   "id": "3d4f1712",
   "metadata": {},
   "outputs": [
    {
     "data": {
      "text/html": [
       "<div>\n",
       "<style scoped>\n",
       "    .dataframe tbody tr th:only-of-type {\n",
       "        vertical-align: middle;\n",
       "    }\n",
       "\n",
       "    .dataframe tbody tr th {\n",
       "        vertical-align: top;\n",
       "    }\n",
       "\n",
       "    .dataframe thead th {\n",
       "        text-align: right;\n",
       "    }\n",
       "</style>\n",
       "<table border=\"1\" class=\"dataframe\">\n",
       "  <thead>\n",
       "    <tr style=\"text-align: right;\">\n",
       "      <th></th>\n",
       "      <th>날짜</th>\n",
       "      <th>지점</th>\n",
       "      <th>평균기온(℃)</th>\n",
       "      <th>최저기온(℃)</th>\n",
       "      <th>최고기온(℃)</th>\n",
       "      <th>일교차</th>\n",
       "      <th>연도</th>\n",
       "      <th>월</th>\n",
       "      <th>일</th>\n",
       "    </tr>\n",
       "  </thead>\n",
       "  <tbody>\n",
       "    <tr>\n",
       "      <th>0</th>\n",
       "      <td>1904-04-09</td>\n",
       "      <td>159</td>\n",
       "      <td>11.3</td>\n",
       "      <td>7.8</td>\n",
       "      <td>16.1</td>\n",
       "      <td>8.3</td>\n",
       "      <td>1904</td>\n",
       "      <td>04</td>\n",
       "      <td>09</td>\n",
       "    </tr>\n",
       "    <tr>\n",
       "      <th>1</th>\n",
       "      <td>1904-04-10</td>\n",
       "      <td>159</td>\n",
       "      <td>9.3</td>\n",
       "      <td>4.7</td>\n",
       "      <td>15.2</td>\n",
       "      <td>10.5</td>\n",
       "      <td>1904</td>\n",
       "      <td>04</td>\n",
       "      <td>10</td>\n",
       "    </tr>\n",
       "    <tr>\n",
       "      <th>2</th>\n",
       "      <td>1904-04-11</td>\n",
       "      <td>159</td>\n",
       "      <td>10.6</td>\n",
       "      <td>NaN</td>\n",
       "      <td>14.9</td>\n",
       "      <td>NaN</td>\n",
       "      <td>1904</td>\n",
       "      <td>04</td>\n",
       "      <td>11</td>\n",
       "    </tr>\n",
       "    <tr>\n",
       "      <th>3</th>\n",
       "      <td>1904-04-12</td>\n",
       "      <td>159</td>\n",
       "      <td>11.3</td>\n",
       "      <td>8.8</td>\n",
       "      <td>13.4</td>\n",
       "      <td>4.6</td>\n",
       "      <td>1904</td>\n",
       "      <td>04</td>\n",
       "      <td>12</td>\n",
       "    </tr>\n",
       "    <tr>\n",
       "      <th>4</th>\n",
       "      <td>1904-04-13</td>\n",
       "      <td>159</td>\n",
       "      <td>14.5</td>\n",
       "      <td>11.1</td>\n",
       "      <td>16.9</td>\n",
       "      <td>5.8</td>\n",
       "      <td>1904</td>\n",
       "      <td>04</td>\n",
       "      <td>13</td>\n",
       "    </tr>\n",
       "  </tbody>\n",
       "</table>\n",
       "</div>"
      ],
      "text/plain": [
       "           날짜   지점  평균기온(℃)  최저기온(℃)  최고기온(℃)   일교차    연도   월   일\n",
       "0  1904-04-09  159     11.3      7.8     16.1   8.3  1904  04  09\n",
       "1  1904-04-10  159      9.3      4.7     15.2  10.5  1904  04  10\n",
       "2  1904-04-11  159     10.6      NaN     14.9   NaN  1904  04  11\n",
       "3  1904-04-12  159     11.3      8.8     13.4   4.6  1904  04  12\n",
       "4  1904-04-13  159     14.5     11.1     16.9   5.8  1904  04  13"
      ]
     },
     "execution_count": 22,
     "metadata": {},
     "output_type": "execute_result"
    }
   ],
   "source": [
    "# 연도/월/일 분리\n",
    "df['연도'] = df['날짜'].apply(lambda x : x.split('-')[0])\n",
    "df['월'] = df['날짜'].apply(lambda x : x.split('-')[1])\n",
    "df['일'] = df['날짜'].apply(lambda x : x.split('-')[2])\n",
    "\n",
    "df.head()"
   ]
  },
  {
   "cell_type": "code",
   "execution_count": 23,
   "id": "44f9ea57",
   "metadata": {},
   "outputs": [
    {
     "name": "stdout",
     "output_type": "stream",
     "text": [
      "['2000' '2001' '2002' '2003' '2004' '2005' '2006' '2007' '2008' '2009'\n",
      " '2010' '2011' '2012' '2013' '2014' '2015' '2016' '2017' '2018' '2019'\n",
      " '2020' '2021' '2022']\n",
      "range(0, 23)\n"
     ]
    }
   ],
   "source": [
    "# 2000년 이후 연도만 리스트로 저장\n",
    "year = df[df['연도'] >= '2000']['연도'].unique()\n",
    "ticks = range(len(year))\n",
    "print(year)\n",
    "print(ticks)"
   ]
  },
  {
   "cell_type": "code",
   "execution_count": 26,
   "id": "b4f089e1",
   "metadata": {},
   "outputs": [
    {
     "data": {
      "text/plain": [
       "0     12.1\n",
       "1     11.9\n",
       "2     15.1\n",
       "3      8.6\n",
       "4     10.0\n",
       "5      9.4\n",
       "6      6.4\n",
       "7     14.5\n",
       "8     13.4\n",
       "9     13.6\n",
       "10     9.9\n",
       "11     9.7\n",
       "12    12.5\n",
       "13    14.2\n",
       "14    11.4\n",
       "15     9.6\n",
       "16     7.7\n",
       "17    13.8\n",
       "18    12.0\n",
       "19    16.1\n",
       "20    15.6\n",
       "21    15.5\n",
       "22    15.0\n",
       "Name: 최고기온(℃), dtype: float64"
      ]
     },
     "execution_count": 26,
     "metadata": {},
     "output_type": "execute_result"
    }
   ],
   "source": [
    "# 매년 3월 1일의 최고기온 확인\n",
    "최고기온 = df[(df['연도'] >= '2000') &\n",
    "              (df['월'] == '03') &\n",
    "              (df['일'] == '01')]['최고기온(℃)']\n",
    "\n",
    "최고기온.index = ticks\n",
    "최고기온"
   ]
  },
  {
   "cell_type": "code",
   "execution_count": 27,
   "id": "0b132578",
   "metadata": {},
   "outputs": [
    {
     "data": {
      "text/plain": [
       "0     1.0\n",
       "1     6.0\n",
       "2     6.8\n",
       "3     5.7\n",
       "4     4.5\n",
       "5    -0.1\n",
       "6     0.4\n",
       "7     4.7\n",
       "8     2.1\n",
       "9     5.9\n",
       "10    5.5\n",
       "11    2.5\n",
       "12    6.2\n",
       "13    1.1\n",
       "14    8.0\n",
       "15    2.2\n",
       "16   -4.3\n",
       "17    6.2\n",
       "18    2.7\n",
       "19    7.0\n",
       "20    7.2\n",
       "21    5.2\n",
       "22    8.3\n",
       "Name: 최저기온(℃), dtype: float64"
      ]
     },
     "execution_count": 27,
     "metadata": {},
     "output_type": "execute_result"
    }
   ],
   "source": [
    "# 매년 3월 1일의 최저기온 확인\n",
    "최저기온 = df[(df['연도'] >= '2000') &\n",
    "              (df['월'] == '03') &\n",
    "              (df['일'] == '01')]['최저기온(℃)']\n",
    "\n",
    "최저기온.index = ticks\n",
    "최저기온"
   ]
  },
  {
   "cell_type": "code",
   "execution_count": 29,
   "id": "ce8741df",
   "metadata": {},
   "outputs": [
    {
     "name": "stderr",
     "output_type": "stream",
     "text": [
      "findfont: Font family ['Malgum Gothic'] not found. Falling back to DejaVu Sans.\n",
      "C:\\Users\\admin\\anaconda3\\lib\\site-packages\\IPython\\core\\pylabtools.py:151: UserWarning: Glyph 52572 (\\N{HANGUL SYLLABLE COE}) missing from current font.\n",
      "  fig.canvas.print_figure(bytes_io, **kw)\n",
      "C:\\Users\\admin\\anaconda3\\lib\\site-packages\\IPython\\core\\pylabtools.py:151: UserWarning: Glyph 44256 (\\N{HANGUL SYLLABLE GO}) missing from current font.\n",
      "  fig.canvas.print_figure(bytes_io, **kw)\n",
      "C:\\Users\\admin\\anaconda3\\lib\\site-packages\\IPython\\core\\pylabtools.py:151: UserWarning: Glyph 44592 (\\N{HANGUL SYLLABLE GI}) missing from current font.\n",
      "  fig.canvas.print_figure(bytes_io, **kw)\n",
      "C:\\Users\\admin\\anaconda3\\lib\\site-packages\\IPython\\core\\pylabtools.py:151: UserWarning: Glyph 50728 (\\N{HANGUL SYLLABLE ON}) missing from current font.\n",
      "  fig.canvas.print_figure(bytes_io, **kw)\n",
      "C:\\Users\\admin\\anaconda3\\lib\\site-packages\\IPython\\core\\pylabtools.py:151: UserWarning: Glyph 51200 (\\N{HANGUL SYLLABLE JEO}) missing from current font.\n",
      "  fig.canvas.print_figure(bytes_io, **kw)\n"
     ]
    },
    {
     "data": {
      "image/png": "[encoded data removed]",
      "text/plain": [
       "<Figure size 432x288 with 1 Axes>"
      ]
     },
     "metadata": {
      "needs_background": "light"
     },
     "output_type": "display_data"
    }
   ],
   "source": [
    "import matplotlib.pyplot as plt\n",
    "\n",
    "plt.rc('font', family = 'Malgum Gothic')\n",
    "plt.rcParams['axes.unicode_minus'] = False\n",
    "\n",
    "plt.plot(최고기온, label = '최고기온')\n",
    "plt.plot(최저기온, label = '최저기온')\n",
    "plt.xticks(ticks, year, rotation =45)\n",
    "plt.legend()\n",
    "plt.show()"
   ]
  },
  {
   "cell_type": "markdown",
   "id": "84c4b67a",
   "metadata": {},
   "source": [
    "#### 연도별 평균 기온"
   ]
  },
  {
   "cell_type": "code",
   "execution_count": 30,
   "id": "888e227a",
   "metadata": {},
   "outputs": [
    {
     "name": "stdout",
     "output_type": "stream",
     "text": [
      "연도\n",
      "1904    16.880524\n",
      "1905    13.973151\n",
      "1906    13.076438\n",
      "1907    13.579178\n",
      "1908    13.347814\n",
      "          ...    \n",
      "2018    15.115068\n",
      "2019    15.751507\n",
      "2020    15.205464\n",
      "2021    15.771233\n",
      "2022    10.632680\n",
      "Name: 평균기온(℃), Length: 119, dtype: float64\n"
     ]
    },
    {
     "data": {
      "text/plain": [
       "<AxesSubplot:xlabel='연도'>"
      ]
     },
     "execution_count": 30,
     "metadata": {},
     "output_type": "execute_result"
    },
    {
     "name": "stderr",
     "output_type": "stream",
     "text": [
      "C:\\Users\\admin\\anaconda3\\lib\\site-packages\\IPython\\core\\pylabtools.py:151: UserWarning: Glyph 50672 (\\N{HANGUL SYLLABLE YEON}) missing from current font.\n",
      "  fig.canvas.print_figure(bytes_io, **kw)\n",
      "C:\\Users\\admin\\anaconda3\\lib\\site-packages\\IPython\\core\\pylabtools.py:151: UserWarning: Glyph 46020 (\\N{HANGUL SYLLABLE DO}) missing from current font.\n",
      "  fig.canvas.print_figure(bytes_io, **kw)\n"
     ]
    },
    {
     "data": {
      "image/png": "[encoded data removed]",
      "text/plain": [
       "<Figure size 432x288 with 1 Axes>"
      ]
     },
     "metadata": {
      "needs_background": "light"
     },
     "output_type": "display_data"
    }
   ],
   "source": [
    "df_group = df.groupby('연도')['평균기온(℃)'].mean()\n",
    "print(df_group)\n",
    "\n",
    "df_group.plot()"
   ]
  },
  {
   "cell_type": "markdown",
   "id": "07a944dd",
   "metadata": {},
   "source": [
    "#### 연도별 최고기온 데이터를 히스토그램으로 표현"
   ]
  },
  {
   "cell_type": "code",
   "execution_count": 35,
   "id": "2bc0656e",
   "metadata": {},
   "outputs": [
    {
     "data": {
      "image/png": "[encoded data removed]",
      "text/plain": [
       "<Figure size 432x288 with 1 Axes>"
      ]
     },
     "metadata": {
      "needs_background": "light"
     },
     "output_type": "display_data"
    }
   ],
   "source": [
    "import matplotlib.pyplot as plt\n",
    "plt.rc('font', family = 'Malgum Gothic')\n",
    "plt.rcParams['axes.unicode_minus'] = False\n",
    "\n",
    "plt.hist(df['최고기온(℃)'], bins = 100, color = 'yellow')    # bins : 히스토그램 막대수\n",
    "plt.show()"
   ]
  }
 ],
 "metadata": {
  "kernelspec": {
   "display_name": "Python 3 (ipykernel)",
   "language": "python",
   "name": "python3"
  },
  "language_info": {
   "codemirror_mode": {
    "name": "ipython",
    "version": 3
   },
   "file_extension": ".py",
   "mimetype": "text/x-python",
   "name": "python",
   "nbconvert_exporter": "python",
   "pygments_lexer": "ipython3",
   "version": "3.9.12"
  }
 },
 "nbformat": 4,
 "nbformat_minor": 5
}
