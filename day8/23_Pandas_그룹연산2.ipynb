{
 "cells": [
  {
   "cell_type": "markdown",
   "id": "09b8f80c",
   "metadata": {},
   "source": [
    "## 데이터 필터링\n",
    "* 그룹화한 데이터에서 원하는 데이터 걸러내기"
   ]
  },
  {
   "cell_type": "code",
   "execution_count": 3,
   "id": "a90199d2",
   "metadata": {},
   "outputs": [
    {
     "name": "stdout",
     "output_type": "stream",
     "text": [
      "(244, 7)\n",
      "   total_bill   tip     sex smoker  day    time  size\n",
      "0       16.99  1.01  Female     No  Sun  Dinner     2\n",
      "1       10.34  1.66    Male     No  Sun  Dinner     3\n",
      "2       21.01  3.50    Male     No  Sun  Dinner     3\n",
      "3       23.68  3.31    Male     No  Sun  Dinner     2\n",
      "4       24.59  3.61  Female     No  Sun  Dinner     4\n"
     ]
    }
   ],
   "source": [
    "import seaborn as sns \n",
    "\n",
    "# tips 데이터 집합 불러오기\n",
    "tips = sns.load_dataset('tips')\n",
    "print(tips.shape)\n",
    "print(tips.head())"
   ]
  },
  {
   "cell_type": "code",
   "execution_count": 2,
   "id": "46874296",
   "metadata": {},
   "outputs": [
    {
     "name": "stdout",
     "output_type": "stream",
     "text": [
      "2    156\n",
      "3     38\n",
      "4     37\n",
      "5      5\n",
      "1      4\n",
      "6      4\n",
      "Name: size, dtype: int64\n"
     ]
    }
   ],
   "source": [
    "# size열 데이터 빈도 확인\n",
    "print(tips['size'].value_counts())"
   ]
  },
  {
   "cell_type": "code",
   "execution_count": 4,
   "id": "9a25813a",
   "metadata": {},
   "outputs": [
    {
     "name": "stdout",
     "output_type": "stream",
     "text": [
      "(231, 7)\n"
     ]
    }
   ],
   "source": [
    "# 주문횟수가 30번 이상인 데이터만 그룹화\n",
    "tips_filtered = tips.groupby('size').filter(lambda x: x['size'].count() >= 30)\n",
    "print(tips_filtered.shape)"
   ]
  },
  {
   "cell_type": "code",
   "execution_count": 6,
   "id": "c1e90571",
   "metadata": {},
   "outputs": [
    {
     "data": {
      "text/plain": [
       "2    156\n",
       "3     38\n",
       "4     37\n",
       "Name: size, dtype: int64"
      ]
     },
     "execution_count": 6,
     "metadata": {},
     "output_type": "execute_result"
    }
   ],
   "source": [
    "#  필터링 후 size열 데이터 빈도 확인\n",
    "tips_filtered['size'].value_counts()"
   ]
  },
  {
   "cell_type": "markdown",
   "id": "cd824ea7",
   "metadata": {},
   "source": [
    "### 그룹 오브젝트\n",
    "* groupby 메서드가 반환하는 값인 그룹 오브젝트 확인"
   ]
  },
  {
   "cell_type": "code",
   "execution_count": 9,
   "id": "5b944270",
   "metadata": {},
   "outputs": [
    {
     "name": "stdout",
     "output_type": "stream",
     "text": [
      "     total_bill   tip     sex smoker   day    time  size\n",
      "187       30.46  2.00    Male    Yes   Sun  Dinner     5\n",
      "179       34.63  3.55    Male    Yes   Sun  Dinner     2\n",
      "31        18.35  2.50    Male     No   Sat  Dinner     4\n",
      "52        34.81  5.20  Female     No   Sun  Dinner     4\n",
      "71        17.07  3.00  Female     No   Sat  Dinner     3\n",
      "6          8.77  2.00    Male     No   Sun  Dinner     2\n",
      "95        40.17  4.73    Male    Yes   Fri  Dinner     4\n",
      "131       20.27  2.83  Female     No  Thur   Lunch     2\n",
      "157       25.00  3.75  Female     No   Sun  Dinner     4\n",
      "5         25.29  4.71    Male     No   Sun  Dinner     4\n"
     ]
    }
   ],
   "source": [
    "# 임의의 10개 데이터 추출\n",
    "import numpy as np\n",
    "import seaborn as sns \n",
    "\n",
    "np.random.seed(1234)\n",
    "tips_10 = sns.load_dataset('tips').sample(10)\n",
    "print(tips_10)"
   ]
  },
  {
   "cell_type": "code",
   "execution_count": 15,
   "id": "d9527bd3",
   "metadata": {},
   "outputs": [
    {
     "name": "stdout",
     "output_type": "stream",
     "text": [
      "<pandas.core.groupby.generic.DataFrameGroupBy object at 0x000001AD327971C0> \n",
      "\n",
      "{'Yes': [187, 179, 95], 'No': [31, 52, 71, 6, 131, 157, 5]} \n",
      "\n",
      "        total_bill       tip      size\n",
      "smoker                                \n",
      "Yes      35.086667  3.426667  3.666667\n",
      "No       21.365714  3.427143  3.285714\n"
     ]
    }
   ],
   "source": [
    "# 흡연자 그룹화\n",
    "grouped = tips_10.groupby('smoker')\n",
    "print(grouped, '\\n')\n",
    "\n",
    "# 그룹 오브젝트에 포함된 그룹 확인(그룹화된 인덱스)\n",
    "print(grouped.groups, '\\n')\n",
    "\n",
    "# 그룹 오브젝트의 평균 구하기\n",
    "avgs = grouped.mean()\n",
    "print(avgs)"
   ]
  },
  {
   "cell_type": "markdown",
   "id": "571e338e",
   "metadata": {},
   "source": [
    "* 그룹 오브젝트에서 데이터 추출하고 반복"
   ]
  },
  {
   "cell_type": "code",
   "execution_count": 16,
   "id": "d3396f6f",
   "metadata": {},
   "outputs": [
    {
     "data": {
      "text/html": [
       "<div>\n",
       "<style scoped>\n",
       "    .dataframe tbody tr th:only-of-type {\n",
       "        vertical-align: middle;\n",
       "    }\n",
       "\n",
       "    .dataframe tbody tr th {\n",
       "        vertical-align: top;\n",
       "    }\n",
       "\n",
       "    .dataframe thead th {\n",
       "        text-align: right;\n",
       "    }\n",
       "</style>\n",
       "<table border=\"1\" class=\"dataframe\">\n",
       "  <thead>\n",
       "    <tr style=\"text-align: right;\">\n",
       "      <th></th>\n",
       "      <th>total_bill</th>\n",
       "      <th>tip</th>\n",
       "      <th>sex</th>\n",
       "      <th>smoker</th>\n",
       "      <th>day</th>\n",
       "      <th>time</th>\n",
       "      <th>size</th>\n",
       "    </tr>\n",
       "  </thead>\n",
       "  <tbody>\n",
       "    <tr>\n",
       "      <th>187</th>\n",
       "      <td>30.46</td>\n",
       "      <td>2.00</td>\n",
       "      <td>Male</td>\n",
       "      <td>Yes</td>\n",
       "      <td>Sun</td>\n",
       "      <td>Dinner</td>\n",
       "      <td>5</td>\n",
       "    </tr>\n",
       "    <tr>\n",
       "      <th>179</th>\n",
       "      <td>34.63</td>\n",
       "      <td>3.55</td>\n",
       "      <td>Male</td>\n",
       "      <td>Yes</td>\n",
       "      <td>Sun</td>\n",
       "      <td>Dinner</td>\n",
       "      <td>2</td>\n",
       "    </tr>\n",
       "    <tr>\n",
       "      <th>95</th>\n",
       "      <td>40.17</td>\n",
       "      <td>4.73</td>\n",
       "      <td>Male</td>\n",
       "      <td>Yes</td>\n",
       "      <td>Fri</td>\n",
       "      <td>Dinner</td>\n",
       "      <td>4</td>\n",
       "    </tr>\n",
       "  </tbody>\n",
       "</table>\n",
       "</div>"
      ],
      "text/plain": [
       "     total_bill   tip   sex smoker  day    time  size\n",
       "187       30.46  2.00  Male    Yes  Sun  Dinner     5\n",
       "179       34.63  3.55  Male    Yes  Sun  Dinner     2\n",
       "95        40.17  4.73  Male    Yes  Fri  Dinner     4"
      ]
     },
     "execution_count": 16,
     "metadata": {},
     "output_type": "execute_result"
    }
   ],
   "source": [
    "# 그룹명을 지정하여 흡연자 데이터만 추출\n",
    "yes = grouped.get_group('Yes')\n",
    "yes"
   ]
  },
  {
   "cell_type": "code",
   "execution_count": 17,
   "id": "d2c02803",
   "metadata": {},
   "outputs": [
    {
     "name": "stdout",
     "output_type": "stream",
     "text": [
      "('Yes',      total_bill   tip   sex smoker  day    time  size\n",
      "187       30.46  2.00  Male    Yes  Sun  Dinner     5\n",
      "179       34.63  3.55  Male    Yes  Sun  Dinner     2\n",
      "95        40.17  4.73  Male    Yes  Fri  Dinner     4)\n",
      "('No',      total_bill   tip     sex smoker   day    time  size\n",
      "31        18.35  2.50    Male     No   Sat  Dinner     4\n",
      "52        34.81  5.20  Female     No   Sun  Dinner     4\n",
      "71        17.07  3.00  Female     No   Sat  Dinner     3\n",
      "6          8.77  2.00    Male     No   Sun  Dinner     2\n",
      "131       20.27  2.83  Female     No  Thur   Lunch     2\n",
      "157       25.00  3.75  Female     No   Sun  Dinner     4\n",
      "5         25.29  4.71    Male     No   Sun  Dinner     4)\n"
     ]
    }
   ],
   "source": [
    "# 반복문으로 그룹 오브젝트의 각 그룹 정보 추출\n",
    "for smoke_group in grouped :\n",
    "    print(smoke_group)"
   ]
  },
  {
   "cell_type": "code",
   "execution_count": 21,
   "id": "920b05a0",
   "metadata": {},
   "outputs": [
    {
     "name": "stdout",
     "output_type": "stream",
     "text": [
      "\n",
      "그룹명 :  Yes\n",
      "     total_bill   tip   sex smoker  day    time  size\n",
      "187       30.46  2.00  Male    Yes  Sun  Dinner     5\n",
      "179       34.63  3.55  Male    Yes  Sun  Dinner     2\n",
      "95        40.17  4.73  Male    Yes  Fri  Dinner     4\n",
      "\n",
      "그룹명 :  No\n",
      "     total_bill   tip     sex smoker   day    time  size\n",
      "31        18.35  2.50    Male     No   Sat  Dinner     4\n",
      "52        34.81  5.20  Female     No   Sun  Dinner     4\n",
      "71        17.07  3.00  Female     No   Sat  Dinner     3\n",
      "6          8.77  2.00    Male     No   Sun  Dinner     2\n",
      "131       20.27  2.83  Female     No  Thur   Lunch     2\n",
      "157       25.00  3.75  Female     No   Sun  Dinner     4\n",
      "5         25.29  4.71    Male     No   Sun  Dinner     4\n"
     ]
    }
   ],
   "source": [
    "# 각 그룹을 데이터프레임 형태로 확인\n",
    "for smoke_group in grouped :\n",
    "    print('\\n그룹명 : ', smoke_group[0])\n",
    "    print(smoke_group[1])"
   ]
  },
  {
   "cell_type": "markdown",
   "id": "765dc9ff",
   "metadata": {},
   "source": [
    "* 여러 열을 사용해 그룹 오브젝트 만들고 계산하기"
   ]
  },
  {
   "cell_type": "code",
   "execution_count": 22,
   "id": "45a84a8e",
   "metadata": {},
   "outputs": [
    {
     "data": {
      "text/html": [
       "<div>\n",
       "<style scoped>\n",
       "    .dataframe tbody tr th:only-of-type {\n",
       "        vertical-align: middle;\n",
       "    }\n",
       "\n",
       "    .dataframe tbody tr th {\n",
       "        vertical-align: top;\n",
       "    }\n",
       "\n",
       "    .dataframe thead th {\n",
       "        text-align: right;\n",
       "    }\n",
       "</style>\n",
       "<table border=\"1\" class=\"dataframe\">\n",
       "  <thead>\n",
       "    <tr style=\"text-align: right;\">\n",
       "      <th></th>\n",
       "      <th></th>\n",
       "      <th>total_bill</th>\n",
       "      <th>tip</th>\n",
       "      <th>size</th>\n",
       "    </tr>\n",
       "    <tr>\n",
       "      <th>smoker</th>\n",
       "      <th>day</th>\n",
       "      <th></th>\n",
       "      <th></th>\n",
       "      <th></th>\n",
       "    </tr>\n",
       "  </thead>\n",
       "  <tbody>\n",
       "    <tr>\n",
       "      <th rowspan=\"4\" valign=\"top\">Yes</th>\n",
       "      <th>Thur</th>\n",
       "      <td>NaN</td>\n",
       "      <td>NaN</td>\n",
       "      <td>NaN</td>\n",
       "    </tr>\n",
       "    <tr>\n",
       "      <th>Fri</th>\n",
       "      <td>40.1700</td>\n",
       "      <td>4.730</td>\n",
       "      <td>4.0</td>\n",
       "    </tr>\n",
       "    <tr>\n",
       "      <th>Sat</th>\n",
       "      <td>NaN</td>\n",
       "      <td>NaN</td>\n",
       "      <td>NaN</td>\n",
       "    </tr>\n",
       "    <tr>\n",
       "      <th>Sun</th>\n",
       "      <td>32.5450</td>\n",
       "      <td>2.775</td>\n",
       "      <td>3.5</td>\n",
       "    </tr>\n",
       "    <tr>\n",
       "      <th rowspan=\"4\" valign=\"top\">No</th>\n",
       "      <th>Thur</th>\n",
       "      <td>20.2700</td>\n",
       "      <td>2.830</td>\n",
       "      <td>2.0</td>\n",
       "    </tr>\n",
       "    <tr>\n",
       "      <th>Fri</th>\n",
       "      <td>NaN</td>\n",
       "      <td>NaN</td>\n",
       "      <td>NaN</td>\n",
       "    </tr>\n",
       "    <tr>\n",
       "      <th>Sat</th>\n",
       "      <td>17.7100</td>\n",
       "      <td>2.750</td>\n",
       "      <td>3.5</td>\n",
       "    </tr>\n",
       "    <tr>\n",
       "      <th>Sun</th>\n",
       "      <td>23.4675</td>\n",
       "      <td>3.915</td>\n",
       "      <td>3.5</td>\n",
       "    </tr>\n",
       "  </tbody>\n",
       "</table>\n",
       "</div>"
      ],
      "text/plain": [
       "             total_bill    tip  size\n",
       "smoker day                          \n",
       "Yes    Thur         NaN    NaN   NaN\n",
       "       Fri      40.1700  4.730   4.0\n",
       "       Sat          NaN    NaN   NaN\n",
       "       Sun      32.5450  2.775   3.5\n",
       "No     Thur     20.2700  2.830   2.0\n",
       "       Fri          NaN    NaN   NaN\n",
       "       Sat      17.7100  2.750   3.5\n",
       "       Sun      23.4675  3.915   3.5"
      ]
     },
     "execution_count": 22,
     "metadata": {},
     "output_type": "execute_result"
    }
   ],
   "source": [
    "# smoker, day열 기준으로 그룹화\n",
    "smoker_day = tips_10.groupby(['smoker','day'])\n",
    "group_avg = smoker_day.mean()\n",
    "group_avg"
   ]
  },
  {
   "cell_type": "code",
   "execution_count": 24,
   "id": "abfe71eb",
   "metadata": {},
   "outputs": [
    {
     "name": "stdout",
     "output_type": "stream",
     "text": [
      "<class 'pandas.core.frame.DataFrame'> \n",
      "\n",
      "Index(['total_bill', 'tip', 'size'], dtype='object') \n",
      "\n",
      "MultiIndex([('Yes', 'Thur'),\n",
      "            ('Yes',  'Fri'),\n",
      "            ('Yes',  'Sat'),\n",
      "            ('Yes',  'Sun'),\n",
      "            ( 'No', 'Thur'),\n",
      "            ( 'No',  'Fri'),\n",
      "            ( 'No',  'Sat'),\n",
      "            ( 'No',  'Sun')],\n",
      "           names=['smoker', 'day'])\n"
     ]
    }
   ],
   "source": [
    "# 그룹 오브젝트 자료형 및 열 이름 확인\n",
    "print(type(group_avg), '\\n')\n",
    "print(group_avg.columns, '\\n')\n",
    "\n",
    "# 인덱스 확인\n",
    "print(group_avg.index)"
   ]
  },
  {
   "cell_type": "code",
   "execution_count": 25,
   "id": "b9e43d07",
   "metadata": {},
   "outputs": [
    {
     "data": {
      "text/html": [
       "<div>\n",
       "<style scoped>\n",
       "    .dataframe tbody tr th:only-of-type {\n",
       "        vertical-align: middle;\n",
       "    }\n",
       "\n",
       "    .dataframe tbody tr th {\n",
       "        vertical-align: top;\n",
       "    }\n",
       "\n",
       "    .dataframe thead th {\n",
       "        text-align: right;\n",
       "    }\n",
       "</style>\n",
       "<table border=\"1\" class=\"dataframe\">\n",
       "  <thead>\n",
       "    <tr style=\"text-align: right;\">\n",
       "      <th></th>\n",
       "      <th>total_bill</th>\n",
       "      <th>tip</th>\n",
       "      <th>size</th>\n",
       "    </tr>\n",
       "    <tr>\n",
       "      <th>day</th>\n",
       "      <th></th>\n",
       "      <th></th>\n",
       "      <th></th>\n",
       "    </tr>\n",
       "  </thead>\n",
       "  <tbody>\n",
       "    <tr>\n",
       "      <th>Thur</th>\n",
       "      <td>NaN</td>\n",
       "      <td>NaN</td>\n",
       "      <td>NaN</td>\n",
       "    </tr>\n",
       "    <tr>\n",
       "      <th>Fri</th>\n",
       "      <td>40.170</td>\n",
       "      <td>4.730</td>\n",
       "      <td>4.0</td>\n",
       "    </tr>\n",
       "    <tr>\n",
       "      <th>Sat</th>\n",
       "      <td>NaN</td>\n",
       "      <td>NaN</td>\n",
       "      <td>NaN</td>\n",
       "    </tr>\n",
       "    <tr>\n",
       "      <th>Sun</th>\n",
       "      <td>32.545</td>\n",
       "      <td>2.775</td>\n",
       "      <td>3.5</td>\n",
       "    </tr>\n",
       "  </tbody>\n",
       "</table>\n",
       "</div>"
      ],
      "text/plain": [
       "      total_bill    tip  size\n",
       "day                          \n",
       "Thur         NaN    NaN   NaN\n",
       "Fri       40.170  4.730   4.0\n",
       "Sat          NaN    NaN   NaN\n",
       "Sun       32.545  2.775   3.5"
      ]
     },
     "execution_count": 25,
     "metadata": {},
     "output_type": "execute_result"
    }
   ],
   "source": [
    "# 멀티 인덱스에서 값 조회\n",
    "group_avg.loc['Yes']"
   ]
  },
  {
   "cell_type": "code",
   "execution_count": 26,
   "id": "8026e9ff",
   "metadata": {},
   "outputs": [
    {
     "data": {
      "text/plain": [
       "total_bill    40.17\n",
       "tip            4.73\n",
       "size           4.00\n",
       "Name: (Yes, Fri), dtype: float64"
      ]
     },
     "execution_count": 26,
     "metadata": {},
     "output_type": "execute_result"
    }
   ],
   "source": [
    "group_avg.loc['Yes','Fri']"
   ]
  },
  {
   "cell_type": "code",
   "execution_count": 27,
   "id": "38a33e4f",
   "metadata": {},
   "outputs": [
    {
     "data": {
      "text/plain": [
       "total_bill    40.17\n",
       "tip            4.73\n",
       "size           4.00\n",
       "Name: (Yes, Fri), dtype: float64"
      ]
     },
     "execution_count": 27,
     "metadata": {},
     "output_type": "execute_result"
    }
   ],
   "source": [
    "group_avg.loc[('Yes','Fri'), :]"
   ]
  },
  {
   "cell_type": "code",
   "execution_count": 32,
   "id": "33fd7b52",
   "metadata": {},
   "outputs": [
    {
     "data": {
      "text/html": [
       "<div>\n",
       "<style scoped>\n",
       "    .dataframe tbody tr th:only-of-type {\n",
       "        vertical-align: middle;\n",
       "    }\n",
       "\n",
       "    .dataframe tbody tr th {\n",
       "        vertical-align: top;\n",
       "    }\n",
       "\n",
       "    .dataframe thead th {\n",
       "        text-align: right;\n",
       "    }\n",
       "</style>\n",
       "<table border=\"1\" class=\"dataframe\">\n",
       "  <thead>\n",
       "    <tr style=\"text-align: right;\">\n",
       "      <th></th>\n",
       "      <th>smoker</th>\n",
       "      <th>day</th>\n",
       "      <th>total_bill</th>\n",
       "      <th>tip</th>\n",
       "      <th>size</th>\n",
       "    </tr>\n",
       "  </thead>\n",
       "  <tbody>\n",
       "    <tr>\n",
       "      <th>0</th>\n",
       "      <td>Yes</td>\n",
       "      <td>Thur</td>\n",
       "      <td>NaN</td>\n",
       "      <td>NaN</td>\n",
       "      <td>NaN</td>\n",
       "    </tr>\n",
       "    <tr>\n",
       "      <th>1</th>\n",
       "      <td>Yes</td>\n",
       "      <td>Fri</td>\n",
       "      <td>40.1700</td>\n",
       "      <td>4.730</td>\n",
       "      <td>4.0</td>\n",
       "    </tr>\n",
       "    <tr>\n",
       "      <th>2</th>\n",
       "      <td>Yes</td>\n",
       "      <td>Sat</td>\n",
       "      <td>NaN</td>\n",
       "      <td>NaN</td>\n",
       "      <td>NaN</td>\n",
       "    </tr>\n",
       "    <tr>\n",
       "      <th>3</th>\n",
       "      <td>Yes</td>\n",
       "      <td>Sun</td>\n",
       "      <td>32.5450</td>\n",
       "      <td>2.775</td>\n",
       "      <td>3.5</td>\n",
       "    </tr>\n",
       "    <tr>\n",
       "      <th>4</th>\n",
       "      <td>No</td>\n",
       "      <td>Thur</td>\n",
       "      <td>20.2700</td>\n",
       "      <td>2.830</td>\n",
       "      <td>2.0</td>\n",
       "    </tr>\n",
       "    <tr>\n",
       "      <th>5</th>\n",
       "      <td>No</td>\n",
       "      <td>Fri</td>\n",
       "      <td>NaN</td>\n",
       "      <td>NaN</td>\n",
       "      <td>NaN</td>\n",
       "    </tr>\n",
       "    <tr>\n",
       "      <th>6</th>\n",
       "      <td>No</td>\n",
       "      <td>Sat</td>\n",
       "      <td>17.7100</td>\n",
       "      <td>2.750</td>\n",
       "      <td>3.5</td>\n",
       "    </tr>\n",
       "    <tr>\n",
       "      <th>7</th>\n",
       "      <td>No</td>\n",
       "      <td>Sun</td>\n",
       "      <td>23.4675</td>\n",
       "      <td>3.915</td>\n",
       "      <td>3.5</td>\n",
       "    </tr>\n",
       "  </tbody>\n",
       "</table>\n",
       "</div>"
      ],
      "text/plain": [
       "  smoker   day  total_bill    tip  size\n",
       "0    Yes  Thur         NaN    NaN   NaN\n",
       "1    Yes   Fri     40.1700  4.730   4.0\n",
       "2    Yes   Sat         NaN    NaN   NaN\n",
       "3    Yes   Sun     32.5450  2.775   3.5\n",
       "4     No  Thur     20.2700  2.830   2.0\n",
       "5     No   Fri         NaN    NaN   NaN\n",
       "6     No   Sat     17.7100  2.750   3.5\n",
       "7     No   Sun     23.4675  3.915   3.5"
      ]
     },
     "execution_count": 32,
     "metadata": {},
     "output_type": "execute_result"
    }
   ],
   "source": [
    "# 인덱스 초기화 : reset_index 메서드\n",
    "group_method = tips_10.groupby(['smoker','day']).mean().reset_index()\n",
    "group_method"
   ]
  },
  {
   "cell_type": "code",
   "execution_count": 33,
   "id": "ae3a4bd2",
   "metadata": {},
   "outputs": [
    {
     "data": {
      "text/html": [
       "<div>\n",
       "<style scoped>\n",
       "    .dataframe tbody tr th:only-of-type {\n",
       "        vertical-align: middle;\n",
       "    }\n",
       "\n",
       "    .dataframe tbody tr th {\n",
       "        vertical-align: top;\n",
       "    }\n",
       "\n",
       "    .dataframe thead th {\n",
       "        text-align: right;\n",
       "    }\n",
       "</style>\n",
       "<table border=\"1\" class=\"dataframe\">\n",
       "  <thead>\n",
       "    <tr style=\"text-align: right;\">\n",
       "      <th></th>\n",
       "      <th>smoker</th>\n",
       "      <th>day</th>\n",
       "      <th>total_bill</th>\n",
       "      <th>tip</th>\n",
       "      <th>size</th>\n",
       "    </tr>\n",
       "  </thead>\n",
       "  <tbody>\n",
       "    <tr>\n",
       "      <th>0</th>\n",
       "      <td>Yes</td>\n",
       "      <td>Thur</td>\n",
       "      <td>NaN</td>\n",
       "      <td>NaN</td>\n",
       "      <td>NaN</td>\n",
       "    </tr>\n",
       "    <tr>\n",
       "      <th>1</th>\n",
       "      <td>Yes</td>\n",
       "      <td>Fri</td>\n",
       "      <td>40.1700</td>\n",
       "      <td>4.730</td>\n",
       "      <td>4.0</td>\n",
       "    </tr>\n",
       "    <tr>\n",
       "      <th>2</th>\n",
       "      <td>Yes</td>\n",
       "      <td>Sat</td>\n",
       "      <td>NaN</td>\n",
       "      <td>NaN</td>\n",
       "      <td>NaN</td>\n",
       "    </tr>\n",
       "    <tr>\n",
       "      <th>3</th>\n",
       "      <td>Yes</td>\n",
       "      <td>Sun</td>\n",
       "      <td>32.5450</td>\n",
       "      <td>2.775</td>\n",
       "      <td>3.5</td>\n",
       "    </tr>\n",
       "    <tr>\n",
       "      <th>4</th>\n",
       "      <td>No</td>\n",
       "      <td>Thur</td>\n",
       "      <td>20.2700</td>\n",
       "      <td>2.830</td>\n",
       "      <td>2.0</td>\n",
       "    </tr>\n",
       "    <tr>\n",
       "      <th>5</th>\n",
       "      <td>No</td>\n",
       "      <td>Fri</td>\n",
       "      <td>NaN</td>\n",
       "      <td>NaN</td>\n",
       "      <td>NaN</td>\n",
       "    </tr>\n",
       "    <tr>\n",
       "      <th>6</th>\n",
       "      <td>No</td>\n",
       "      <td>Sat</td>\n",
       "      <td>17.7100</td>\n",
       "      <td>2.750</td>\n",
       "      <td>3.5</td>\n",
       "    </tr>\n",
       "    <tr>\n",
       "      <th>7</th>\n",
       "      <td>No</td>\n",
       "      <td>Sun</td>\n",
       "      <td>23.4675</td>\n",
       "      <td>3.915</td>\n",
       "      <td>3.5</td>\n",
       "    </tr>\n",
       "  </tbody>\n",
       "</table>\n",
       "</div>"
      ],
      "text/plain": [
       "  smoker   day  total_bill    tip  size\n",
       "0    Yes  Thur         NaN    NaN   NaN\n",
       "1    Yes   Fri     40.1700  4.730   4.0\n",
       "2    Yes   Sat         NaN    NaN   NaN\n",
       "3    Yes   Sun     32.5450  2.775   3.5\n",
       "4     No  Thur     20.2700  2.830   2.0\n",
       "5     No   Fri         NaN    NaN   NaN\n",
       "6     No   Sat     17.7100  2.750   3.5\n",
       "7     No   Sun     23.4675  3.915   3.5"
      ]
     },
     "execution_count": 33,
     "metadata": {},
     "output_type": "execute_result"
    }
   ],
   "source": [
    "# 인덱스 초기화 : as_index 인자\n",
    "group_param = tips_10.groupby(['smoker','day'], as_index = False).mean()\n",
    "group_param"
   ]
  },
  {
   "cell_type": "code",
   "execution_count": null,
   "id": "25c85697",
   "metadata": {},
   "outputs": [],
   "source": []
  }
 ],
 "metadata": {
  "kernelspec": {
   "display_name": "Python 3 (ipykernel)",
   "language": "python",
   "name": "python3"
  },
  "language_info": {
   "codemirror_mode": {
    "name": "ipython",
    "version": 3
   },
   "file_extension": ".py",
   "mimetype": "text/x-python",
   "name": "python",
   "nbconvert_exporter": "python",
   "pygments_lexer": "ipython3",
   "version": "3.9.12"
  }
 },
 "nbformat": 4,
 "nbformat_minor": 5
}
